{
 "cells": [
  {
   "cell_type": "markdown",
   "metadata": {},
   "source": [
    "20200913"
   ]
  },
  {
   "cell_type": "markdown",
   "metadata": {},
   "source": [
    "# 1. Арифметические операторы. Базовый ввод-вывод."
   ]
  },
  {
   "cell_type": "markdown",
   "metadata": {},
   "source": [
    "## 1.1 Ввод-вывод и арифметические операторы"
   ]
  },
  {
   "cell_type": "markdown",
   "metadata": {},
   "source": [
    "### Задача 1\n",
    "Напишите программу, которая выводит строку \"Python\" без кавычек.\n",
    "\n",
    "Sample Input:\n",
    "\n",
    "    \n",
    "Sample Output:\n",
    "\n",
    "Python"
   ]
  },
  {
   "cell_type": "code",
   "execution_count": null,
   "metadata": {},
   "outputs": [],
   "source": [
    "print('Python')"
   ]
  },
  {
   "cell_type": "markdown",
   "metadata": {},
   "source": [
    "### Задача 2\n",
    "Напишите программу, которая напечатает букву \"A\" (латинскую) 133 раза подряд.\n",
    "\n",
    "Используйте смекалку, а не трудолюбие.\n",
    "\n",
    "Латинская A, а не русская А.  Обратите внимание на раскладку клавиатуры.\n",
    "\n",
    "Sample Input:\n",
    "\n",
    "Sample Output:\n",
    "\n",
    "AAAAAAAAAAAAAAAAAAAAAAAAAAAAAAAAAAAAAAAAAAAAAAAAAAAAAAAAAAAAAAAAAAAAAAAAAAAAAAAAAAAAAAAAAAAAAAAAAAAAAAAAA"
   ]
  },
  {
   "cell_type": "code",
   "execution_count": 17,
   "metadata": {},
   "outputs": [
    {
     "name": "stdout",
     "output_type": "stream",
     "text": [
      "AAAAAAAAAAAAAAAAAAAAAAAAAAAAAAAAAAAAAAAAAAAAAAAAAAAAAAAAAAAAAAAAAAAAAAAAAAAAAAAAAAAAAAAAAAAAAAAAAAAAAAAAAAAAAAAAAAAAAAAAAAAAAAAAAAAAA\n"
     ]
    }
   ],
   "source": [
    "print(133 * 'A')"
   ]
  },
  {
   "cell_type": "markdown",
   "metadata": {},
   "source": [
    "### Задача 3\n",
    "Вычислите ${2^{179}}$. Выведите на экран вычисленное значение.\n",
    "\n",
    "Sample Input:\n",
    "\n",
    "Sample Output:\n",
    "\n",
    "766247770432944429179173513575154591809369561091801088"
   ]
  },
  {
   "cell_type": "code",
   "execution_count": 18,
   "metadata": {},
   "outputs": [
    {
     "name": "stdout",
     "output_type": "stream",
     "text": [
      "766247770432944429179173513575154591809369561091801088\n"
     ]
    }
   ],
   "source": [
    "print(2 ** 179)"
   ]
  },
  {
   "cell_type": "code",
   "execution_count": 20,
   "metadata": {},
   "outputs": [
    {
     "name": "stdout",
     "output_type": "stream",
     "text": [
      "7.662477704329444e+53\n"
     ]
    }
   ],
   "source": [
    "import math\n",
    "\n",
    "print(math.pow(2, 179))"
   ]
  },
  {
   "cell_type": "markdown",
   "metadata": {},
   "source": [
    "### Задача 4\n",
    "Прочитайте строку, введенную пользователем. Напечатайте её три раза подряд.\n",
    "\n",
    "Подсказка: используйте функцию input.\n",
    "\n",
    "Sample Input:\n",
    "\n",
    "Python\n",
    "\n",
    "Sample Output:\n",
    "\n",
    "PythonPythonPython"
   ]
  },
  {
   "cell_type": "code",
   "execution_count": 21,
   "metadata": {},
   "outputs": [
    {
     "name": "stdout",
     "output_type": "stream",
     "text": [
      "ff\n",
      "ffffff\n"
     ]
    }
   ],
   "source": [
    "print(3 * input())"
   ]
  },
  {
   "cell_type": "markdown",
   "metadata": {},
   "source": [
    "### Задача 5\n",
    "На вход подаются два числа x, y. \n",
    "Умножьте 3 на x и запишите результат y раз подряд.\n",
    "\n",
    "Sample Input:\n",
    "\n",
    "3  \n",
    "2\n",
    "\n",
    "Sample Output:\n",
    "\n",
    "99"
   ]
  },
  {
   "cell_type": "code",
   "execution_count": 1,
   "metadata": {},
   "outputs": [
    {
     "name": "stdout",
     "output_type": "stream",
     "text": [
      "3\n",
      "2\n",
      "99\n"
     ]
    }
   ],
   "source": [
    "print(f'{3 * int(input())}' * int(input()))"
   ]
  },
  {
   "cell_type": "markdown",
   "metadata": {},
   "source": [
    "### Задача 6\n",
    "Друзья делят яблоки между собой. Напишите программу, который вычислит:\n",
    "\n",
    "сколько целых яблок достанется каждому другу?  \n",
    "сколько яблок останется не разделенными?  \n",
    "по сколько получит каждый из друзей, если они начнут делить яблоки на части?  \n",
    "На вход подаются два числа: количество друзей и яблок.  \n",
    "\n",
    "На выходе должно быть три строки, каждая должна содержать ответ на поставленный вопрос.\n",
    "\n",
    "Sample Input:\n",
    "\n",
    "10  \n",
    "8\n",
    "\n",
    "Sample Output:\n",
    "\n",
    "0  \n",
    "8  \n",
    "0.8"
   ]
  },
  {
   "cell_type": "code",
   "execution_count": 4,
   "metadata": {},
   "outputs": [
    {
     "name": "stdout",
     "output_type": "stream",
     "text": [
      "10\n",
      "8\n",
      "0\n",
      "8\n",
      "0.8\n"
     ]
    }
   ],
   "source": [
    "friends, apples = int(input()), int(input())\n",
    "print(apples // friends, apples % friends, apples / friends, sep='\\n')"
   ]
  },
  {
   "cell_type": "markdown",
   "metadata": {},
   "source": [
    "### Задача 7\n",
    "А сколько яблок нужно добавить, чтобы можно было разделить все яблоки на цело между друзьями?\n",
    "\n",
    "На вход подаются два числа: количество друзей и яблок.\n",
    "\n",
    "На выходе должно быть одна строка, содержащая ответ на поставленный вопрос.\n",
    "\n",
    "Sample Input:\n",
    "\n",
    "8  \n",
    "11  \n",
    "\n",
    "Sample Output:\n",
    "\n",
    "5"
   ]
  },
  {
   "cell_type": "code",
   "execution_count": null,
   "metadata": {},
   "outputs": [],
   "source": [
    "friends, apples = int(input()), int(input())\n",
    "print(friends - apples % friends)"
   ]
  },
  {
   "cell_type": "code",
   "execution_count": 12,
   "metadata": {},
   "outputs": [
    {
     "name": "stdout",
     "output_type": "stream",
     "text": [
      "8\n",
      "9\n",
      "7\n"
     ]
    }
   ],
   "source": [
    "friends, apples = int(input()), int(input())\n",
    "print(friends - apples % friends if apples % friends else 0)"
   ]
  },
  {
   "cell_type": "markdown",
   "metadata": {},
   "source": [
    "### Задача 8\n",
    "Напишите программу, которая будет вычислять площадь фигуры, представленной на рисунке. На вход программы подаются 4 числа: длины отрезков a, b, c и d.\n",
    "\n",
    "Все углы у этой фигуры прямые.\n",
    "\n",
    "Подсказка: площадь прямоугольника равна произведению его длины на ширину.\n",
    "\n",
    "Sample Input:\n",
    "\n",
    "1  \n",
    "1  \n",
    "1  \n",
    "1  \n",
    "\n",
    "Sample Output:\n",
    "\n",
    "3"
   ]
  },
  {
   "cell_type": "code",
   "execution_count": 9,
   "metadata": {},
   "outputs": [
    {
     "name": "stdout",
     "output_type": "stream",
     "text": [
      "1\n",
      "1\n",
      "1\n",
      "1\n",
      "3.0\n"
     ]
    }
   ],
   "source": [
    "a, b, c, d = (float(input()) for i in range(4))\n",
    "print(int(a * (b + d) + c * d))   # (a + c) * (b + d) - b * c"
   ]
  },
  {
   "cell_type": "markdown",
   "metadata": {},
   "source": [
    "### Задача 9\n",
    "Вы открыли вклад в банке. Положили 100000 рублей под 10% годовых. Капитализация процентов происходит раз в год. Какая сумма будет у вас через несколько лет? \n",
    "\n",
    "Напишите программу, которая вычисляет сумму денег на вашем счету. Количество лет поступит на вход. \n",
    "\n",
    "Отбросьте копейки в результате.\n",
    "\n",
    "Для простоты считайте, что нет разницы между високосными и не високосными годами.\n",
    "\n",
    "Капитализация процентов означает, что прибыль по вкладу будет добавлена в конце периода к тому же вкладу. И в следующем периоде проценты будут начислены уже на большую сумму.\n",
    "\n",
    "Sample Input:\n",
    "\n",
    "1  \n",
    "\n",
    "Sample Output:\n",
    "\n",
    "110000"
   ]
  },
  {
   "cell_type": "code",
   "execution_count": 15,
   "metadata": {},
   "outputs": [
    {
     "name": "stdout",
     "output_type": "stream",
     "text": [
      "1\n",
      "110000\n"
     ]
    }
   ],
   "source": [
    "print(int(100000 * 1.1 ** int(input())))   # sum * (1 + percents / 100) ** years"
   ]
  },
  {
   "cell_type": "markdown",
   "metadata": {},
   "source": [
    "### Задача 10\n",
    "Вы открыли вклад в банке. Положили 100000 рублей под 10% годовых. Что если теперь проценты будут капитализироваться в конце каждого месяца? \n",
    "\n",
    "Напишите программу, которая вычисляет сумму денег на вашем счету.  Количество лет поступит на вход. \n",
    "\n",
    "Отбросьте копейки в результате.\n",
    "\n",
    "Для простоты считайте, что все месяцы одинаковые.\n",
    "\n",
    "В году 12 месяцев.\n",
    "\n",
    "Никто не будет начислять каждый месяц все 10%. Они на то и \"годовые\".\n",
    "\n",
    "Sample Input:\n",
    "\n",
    "1\n",
    "\n",
    "Sample Output:\n",
    "\n",
    "110471"
   ]
  },
  {
   "cell_type": "code",
   "execution_count": 16,
   "metadata": {},
   "outputs": [
    {
     "name": "stdout",
     "output_type": "stream",
     "text": [
      "1\n",
      "110471\n"
     ]
    }
   ],
   "source": [
    "print(int(100000 * (1 + 0.1 / 12) ** (12 * int(input()))))  # sum * (1 + percents / (100 * 12)) ** (12 * years)"
   ]
  },
  {
   "cell_type": "code",
   "execution_count": null,
   "metadata": {},
   "outputs": [],
   "source": []
  }
 ],
 "metadata": {
  "kernelspec": {
   "display_name": "Python 3",
   "language": "python",
   "name": "python3"
  },
  "language_info": {
   "codemirror_mode": {
    "name": "ipython",
    "version": 3
   },
   "file_extension": ".py",
   "mimetype": "text/x-python",
   "name": "python",
   "nbconvert_exporter": "python",
   "pygments_lexer": "ipython3",
   "version": "3.7.3"
  }
 },
 "nbformat": 4,
 "nbformat_minor": 2
}
