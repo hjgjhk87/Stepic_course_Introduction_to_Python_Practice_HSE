{
 "cells": [
  {
   "cell_type": "markdown",
   "metadata": {},
   "source": [
    "20200913"
   ]
  },
  {
   "cell_type": "markdown",
   "metadata": {},
   "source": [
    "# 1. Арифметические операторы. Базовый ввод-вывод."
   ]
  },
  {
   "cell_type": "markdown",
   "metadata": {},
   "source": [
    "## 1.1 Ввод-вывод и арифметические операторы"
   ]
  },
  {
   "cell_type": "markdown",
   "metadata": {},
   "source": [
    "### Задача 1\n",
    "Напишите программу, которая выводит строку \"Python\" без кавычек.\n",
    "\n",
    "Sample Input:\n",
    "\n",
    "    \n",
    "Sample Output:\n",
    "\n",
    "Python"
   ]
  },
  {
   "cell_type": "code",
   "execution_count": null,
   "metadata": {},
   "outputs": [],
   "source": [
    "print('Python')"
   ]
  },
  {
   "cell_type": "markdown",
   "metadata": {},
   "source": [
    "### Задача 2\n",
    "Напишите программу, которая напечатает букву \"A\" (латинскую) 133 раза подряд.\n",
    "\n",
    "Используйте смекалку, а не трудолюбие.\n",
    "\n",
    "Латинская A, а не русская А.  Обратите внимание на раскладку клавиатуры.\n",
    "\n",
    "Sample Input:\n",
    "\n",
    "Sample Output:\n",
    "\n",
    "AAAAAAAAAAAAAAAAAAAAAAAAAAAAAAAAAAAAAAAAAAAAAAAAAAAAAAAAAAAAAAAAAAAAAAAAAAAAAAAAAAAAAAAAAAAAAAAAAAAAAAAAA"
   ]
  },
  {
   "cell_type": "code",
   "execution_count": 17,
   "metadata": {},
   "outputs": [
    {
     "name": "stdout",
     "output_type": "stream",
     "text": [
      "AAAAAAAAAAAAAAAAAAAAAAAAAAAAAAAAAAAAAAAAAAAAAAAAAAAAAAAAAAAAAAAAAAAAAAAAAAAAAAAAAAAAAAAAAAAAAAAAAAAAAAAAAAAAAAAAAAAAAAAAAAAAAAAAAAAAA\n"
     ]
    }
   ],
   "source": [
    "print(133 * 'A')"
   ]
  },
  {
   "cell_type": "markdown",
   "metadata": {},
   "source": [
    "### Задача 3\n",
    "Вычислите ${2^{179}}$. Выведите на экран вычисленное значение.\n",
    "\n",
    "Sample Input:\n",
    "\n",
    "Sample Output:\n",
    "\n",
    "766247770432944429179173513575154591809369561091801088"
   ]
  },
  {
   "cell_type": "code",
   "execution_count": 18,
   "metadata": {},
   "outputs": [
    {
     "name": "stdout",
     "output_type": "stream",
     "text": [
      "766247770432944429179173513575154591809369561091801088\n"
     ]
    }
   ],
   "source": [
    "print(2 ** 179)"
   ]
  },
  {
   "cell_type": "code",
   "execution_count": 20,
   "metadata": {},
   "outputs": [
    {
     "name": "stdout",
     "output_type": "stream",
     "text": [
      "7.662477704329444e+53\n"
     ]
    }
   ],
   "source": [
    "import math\n",
    "\n",
    "print(math.pow(2, 179))"
   ]
  },
  {
   "cell_type": "markdown",
   "metadata": {},
   "source": [
    "### Задача 4\n",
    "Прочитайте строку, введенную пользователем. Напечатайте её три раза подряд.\n",
    "\n",
    "Подсказка: используйте функцию input.\n",
    "\n",
    "Sample Input:\n",
    "\n",
    "Python\n",
    "\n",
    "Sample Output:\n",
    "\n",
    "PythonPythonPython"
   ]
  },
  {
   "cell_type": "code",
   "execution_count": 21,
   "metadata": {},
   "outputs": [
    {
     "name": "stdout",
     "output_type": "stream",
     "text": [
      "ff\n",
      "ffffff\n"
     ]
    }
   ],
   "source": [
    "print(3 * input())"
   ]
  },
  {
   "cell_type": "markdown",
   "metadata": {},
   "source": [
    "### Задача 5\n",
    "На вход подаются два числа x, y. \n",
    "Умножьте 3 на x и запишите результат y раз подряд.\n",
    "\n",
    "Sample Input:\n",
    "\n",
    "3  \n",
    "2\n",
    "\n",
    "Sample Output:\n",
    "\n",
    "99"
   ]
  },
  {
   "cell_type": "code",
   "execution_count": 1,
   "metadata": {},
   "outputs": [
    {
     "name": "stdout",
     "output_type": "stream",
     "text": [
      "3\n",
      "2\n",
      "99\n"
     ]
    }
   ],
   "source": [
    "print(f'{3 * int(input())}' * int(input()))"
   ]
  },
  {
   "cell_type": "markdown",
   "metadata": {},
   "source": [
    "### Задача 6\n",
    "Друзья делят яблоки между собой. Напишите программу, который вычислит:\n",
    "\n",
    "сколько целых яблок достанется каждому другу?  \n",
    "сколько яблок останется не разделенными?  \n",
    "по сколько получит каждый из друзей, если они начнут делить яблоки на части?  \n",
    "На вход подаются два числа: количество друзей и яблок.  \n",
    "\n",
    "На выходе должно быть три строки, каждая должна содержать ответ на поставленный вопрос.\n",
    "\n",
    "Sample Input:\n",
    "\n",
    "10  \n",
    "8\n",
    "\n",
    "Sample Output:\n",
    "\n",
    "0  \n",
    "8  \n",
    "0.8"
   ]
  },
  {
   "cell_type": "code",
   "execution_count": 4,
   "metadata": {},
   "outputs": [
    {
     "name": "stdout",
     "output_type": "stream",
     "text": [
      "10\n",
      "8\n",
      "0\n",
      "8\n",
      "0.8\n"
     ]
    }
   ],
   "source": [
    "friends, apples = int(input()), int(input())\n",
    "print(apples // friends, apples % friends, apples / friends, sep='\\n')"
   ]
  },
  {
   "cell_type": "markdown",
   "metadata": {},
   "source": [
    "### Задача 7\n",
    "А сколько яблок нужно добавить, чтобы можно было разделить все яблоки на цело между друзьями?\n",
    "\n",
    "На вход подаются два числа: количество друзей и яблок.\n",
    "\n",
    "На выходе должно быть одна строка, содержащая ответ на поставленный вопрос.\n",
    "\n",
    "Sample Input:\n",
    "\n",
    "8  \n",
    "11  \n",
    "\n",
    "Sample Output:\n",
    "\n",
    "5"
   ]
  },
  {
   "cell_type": "markdown",
   "metadata": {},
   "source": [
    "__#1__"
   ]
  },
  {
   "cell_type": "code",
   "execution_count": null,
   "metadata": {},
   "outputs": [],
   "source": [
    "friends, apples = int(input()), int(input())\n",
    "print(friends - apples % friends)"
   ]
  },
  {
   "cell_type": "markdown",
   "metadata": {},
   "source": [
    "__#2__ Учтен случай, что если количество яблок делится нацело на всех друзей, то ничего не добавляем"
   ]
  },
  {
   "cell_type": "code",
   "execution_count": 12,
   "metadata": {},
   "outputs": [
    {
     "name": "stdout",
     "output_type": "stream",
     "text": [
      "8\n",
      "9\n",
      "7\n"
     ]
    }
   ],
   "source": [
    "friends, apples = int(input()), int(input())\n",
    "print(friends - apples % friends if apples % friends else 0)"
   ]
  },
  {
   "cell_type": "markdown",
   "metadata": {},
   "source": [
    "### Задача 8\n",
    "Напишите программу, которая будет вычислять площадь фигуры, представленной на рисунке. На вход программы подаются 4 числа: длины отрезков a, b, c и d.\n",
    "\n",
    "Все углы у этой фигуры прямые.\n",
    "\n",
    "Подсказка: площадь прямоугольника равна произведению его длины на ширину.\n",
    "\n",
    "Sample Input:\n",
    "\n",
    "1  \n",
    "1  \n",
    "1  \n",
    "1  \n",
    "\n",
    "Sample Output:\n",
    "\n",
    "3"
   ]
  },
  {
   "cell_type": "code",
   "execution_count": 9,
   "metadata": {},
   "outputs": [
    {
     "name": "stdout",
     "output_type": "stream",
     "text": [
      "1\n",
      "1\n",
      "1\n",
      "1\n",
      "3.0\n"
     ]
    }
   ],
   "source": [
    "a, b, c, d = (float(input()) for i in range(4))\n",
    "print(int(a * (b + d) + c * d))   # (a + c) * (b + d) - b * c"
   ]
  },
  {
   "cell_type": "markdown",
   "metadata": {},
   "source": [
    "### Задача 9\n",
    "Вы открыли вклад в банке. Положили 100000 рублей под 10% годовых. Капитализация процентов происходит раз в год. Какая сумма будет у вас через несколько лет? \n",
    "\n",
    "Напишите программу, которая вычисляет сумму денег на вашем счету. Количество лет поступит на вход. \n",
    "\n",
    "Отбросьте копейки в результате.\n",
    "\n",
    "Для простоты считайте, что нет разницы между високосными и не високосными годами.\n",
    "\n",
    "Капитализация процентов означает, что прибыль по вкладу будет добавлена в конце периода к тому же вкладу. И в следующем периоде проценты будут начислены уже на большую сумму.\n",
    "\n",
    "Sample Input:\n",
    "\n",
    "1  \n",
    "\n",
    "Sample Output:\n",
    "\n",
    "110000"
   ]
  },
  {
   "cell_type": "code",
   "execution_count": 15,
   "metadata": {},
   "outputs": [
    {
     "name": "stdout",
     "output_type": "stream",
     "text": [
      "1\n",
      "110000\n"
     ]
    }
   ],
   "source": [
    "print(int(100000 * 1.1 ** int(input())))   # sum * (1 + percents / 100) ** years"
   ]
  },
  {
   "cell_type": "markdown",
   "metadata": {},
   "source": [
    "### Задача 10\n",
    "Вы открыли вклад в банке. Положили 100000 рублей под 10% годовых. Что если теперь проценты будут капитализироваться в конце каждого месяца? \n",
    "\n",
    "Напишите программу, которая вычисляет сумму денег на вашем счету.  Количество лет поступит на вход. \n",
    "\n",
    "Отбросьте копейки в результате.\n",
    "\n",
    "Для простоты считайте, что все месяцы одинаковые.\n",
    "\n",
    "В году 12 месяцев.\n",
    "\n",
    "Никто не будет начислять каждый месяц все 10%. Они на то и \"годовые\".\n",
    "\n",
    "Sample Input:\n",
    "\n",
    "1\n",
    "\n",
    "Sample Output:\n",
    "\n",
    "110471"
   ]
  },
  {
   "cell_type": "code",
   "execution_count": 16,
   "metadata": {},
   "outputs": [
    {
     "name": "stdout",
     "output_type": "stream",
     "text": [
      "1\n",
      "110471\n"
     ]
    }
   ],
   "source": [
    "print(int(100000 * (1 + 0.1 / 12) ** (12 * int(input()))))  # sum * (1 + percents / (100 * 12)) ** (12 * years)"
   ]
  },
  {
   "cell_type": "markdown",
   "metadata": {},
   "source": [
    "20200914"
   ]
  },
  {
   "cell_type": "markdown",
   "metadata": {},
   "source": [
    "# 2. Условия, операторы if, цикл while.\n"
   ]
  },
  {
   "cell_type": "markdown",
   "metadata": {},
   "source": [
    "## 2.1 Условия if, elif, else"
   ]
  },
  {
   "cell_type": "markdown",
   "metadata": {},
   "source": [
    "### Задача 1\n",
    "Напишите программу, которая считывает два числа и выводит то из них, которое больше.\n",
    "\n",
    "Sample Input:\n",
    "\n",
    "436  \n",
    "337\n",
    "\n",
    "Sample Output:\n",
    "\n",
    "436"
   ]
  },
  {
   "cell_type": "markdown",
   "metadata": {},
   "source": [
    "__#1__ Решение, которое ждут в данном разделе"
   ]
  },
  {
   "cell_type": "code",
   "execution_count": 1,
   "metadata": {},
   "outputs": [
    {
     "name": "stdout",
     "output_type": "stream",
     "text": [
      "436\n",
      "42.4\n",
      "436.0\n"
     ]
    }
   ],
   "source": [
    "a, b = int(input()), int(input())\n",
    "print(a if a > b else b)"
   ]
  },
  {
   "cell_type": "markdown",
   "metadata": {},
   "source": [
    "!!! Проверка не пропускает float:"
   ]
  },
  {
   "cell_type": "code",
   "execution_count": 2,
   "metadata": {},
   "outputs": [
    {
     "name": "stdout",
     "output_type": "stream",
     "text": [
      "3\n",
      "4.3\n",
      "4.3\n"
     ]
    }
   ],
   "source": [
    "a, b = float(input()), float(input())\n",
    "print(a if a > b else b)"
   ]
  },
  {
   "cell_type": "markdown",
   "metadata": {},
   "source": [
    "__#2__"
   ]
  },
  {
   "cell_type": "code",
   "execution_count": 3,
   "metadata": {},
   "outputs": [
    {
     "name": "stdout",
     "output_type": "stream",
     "text": [
      "3\n",
      "4.5\n",
      "4.5\n"
     ]
    }
   ],
   "source": [
    "print(max(float(input()), float(input())))"
   ]
  },
  {
   "cell_type": "markdown",
   "metadata": {},
   "source": [
    "### Задача 2\n",
    "Прочитайте число. Выведите -1 если оно отрицательное, 1 если оно положительное. Если число равно 0, то выведите 0. \n",
    "\n",
    "Sample Input:\n",
    "\n",
    "7\n",
    "\n",
    "Sample Output:\n",
    "\n",
    "1"
   ]
  },
  {
   "cell_type": "markdown",
   "metadata": {},
   "source": [
    "__#1__ Решение, которое ждут в данном разделе"
   ]
  },
  {
   "cell_type": "code",
   "execution_count": 6,
   "metadata": {},
   "outputs": [
    {
     "name": "stdout",
     "output_type": "stream",
     "text": [
      "0\n",
      "0\n"
     ]
    }
   ],
   "source": [
    "a = float(input())\n",
    "\n",
    "if a > 0:\n",
    "    print(1)\n",
    "elif a < 0:\n",
    "    print(-1)\n",
    "else:\n",
    "    print(0)"
   ]
  },
  {
   "cell_type": "markdown",
   "metadata": {},
   "source": [
    "__#2__"
   ]
  },
  {
   "cell_type": "code",
   "execution_count": 10,
   "metadata": {},
   "outputs": [
    {
     "name": "stdout",
     "output_type": "stream",
     "text": [
      "-4.5\n",
      "-1\n"
     ]
    }
   ],
   "source": [
    "a = float(input())\n",
    "print(int(a // abs(a)) if a != 0 else 0)"
   ]
  },
  {
   "cell_type": "markdown",
   "metadata": {},
   "source": [
    "### Задача 3\n",
    "Напишите программу, которая считывает два числа и выводит номер того из них, которое больше.\n",
    "\n",
    "Если первое больше, то выводится \"1\". Если второе, то - \"2\". Если числа равны, то \"0\".\n",
    "\n",
    "Sample Input:\n",
    "\n",
    "8  \n",
    "11\n",
    "\n",
    "Sample Output:\n",
    "\n",
    "2"
   ]
  },
  {
   "cell_type": "code",
   "execution_count": 12,
   "metadata": {},
   "outputs": [
    {
     "name": "stdout",
     "output_type": "stream",
     "text": [
      "3\n",
      "3\n",
      "0\n"
     ]
    }
   ],
   "source": [
    "a, b = float(input()), float(input())\n",
    "\n",
    "if a > b:\n",
    "    print(1)\n",
    "elif a <  b:\n",
    "    print(2)\n",
    "else:\n",
    "    print(0)"
   ]
  },
  {
   "cell_type": "markdown",
   "metadata": {},
   "source": [
    "Или чуть по-другому:"
   ]
  },
  {
   "cell_type": "code",
   "execution_count": 15,
   "metadata": {},
   "outputs": [
    {
     "name": "stdout",
     "output_type": "stream",
     "text": [
      "11\n",
      "11\n",
      "0\n"
     ]
    }
   ],
   "source": [
    "a, b = (float(input()) for i in range(2))\n",
    "\n",
    "if a == b:\n",
    "    print(0)\n",
    "else:\n",
    "    print(1 if a > b else 2)"
   ]
  },
  {
   "cell_type": "markdown",
   "metadata": {},
   "source": [
    "### Задача 4\n",
    "Считайте цифру, выведите её название на английском (zero, one, ..., nine).\n",
    "\n",
    "Sample Input:\n",
    "\n",
    "8\n",
    "\n",
    "Sample Output:\n",
    "\n",
    "eight"
   ]
  },
  {
   "cell_type": "markdown",
   "metadata": {},
   "source": [
    "__#1__ Решение, которое ждут в данном разделе"
   ]
  },
  {
   "cell_type": "code",
   "execution_count": 19,
   "metadata": {},
   "outputs": [
    {
     "name": "stdout",
     "output_type": "stream",
     "text": [
      "9\n",
      "nine\n"
     ]
    }
   ],
   "source": [
    "a = int(input())\n",
    "\n",
    "if a == 0:\n",
    "    print('zero')\n",
    "elif a == 1:\n",
    "    print('one')\n",
    "elif a == 2:\n",
    "    print('two')\n",
    "elif a == 3:\n",
    "    print('three')\n",
    "elif a == 4:\n",
    "    print('four')\n",
    "elif a == 5:\n",
    "    print('five')\n",
    "elif a == 6:\n",
    "    print('six')\n",
    "elif a == 7:\n",
    "    print('seven')\n",
    "elif a == 8:\n",
    "    print('eight')\n",
    "elif a == 9:\n",
    "    print('nine')\n",
    "else:\n",
    "    print('Not a digit!')"
   ]
  },
  {
   "cell_type": "markdown",
   "metadata": {},
   "source": [
    "__#2__"
   ]
  },
  {
   "cell_type": "code",
   "execution_count": 26,
   "metadata": {},
   "outputs": [
    {
     "name": "stdout",
     "output_type": "stream",
     "text": [
      "0\n",
      "zero\n"
     ]
    }
   ],
   "source": [
    "digits = {\n",
    "    0: 'zero',\n",
    "    1: 'one',\n",
    "    2: 'two',\n",
    "    3: 'three',\n",
    "    4: 'four',\n",
    "    5: 'five',\n",
    "    6: 'six',\n",
    "    7: 'seven',\n",
    "    8: 'eight',\n",
    "    9: 'nine'\n",
    "}\n",
    "print(digits.get(int(input()), 'Not a digit!'))"
   ]
  },
  {
   "cell_type": "markdown",
   "metadata": {},
   "source": [
    "### Задача 5\n",
    "Напишите программу, которая будет получать на вход количество,  а выводить это число и правильное склонение слова \"студент\" латиницей (\"student\", \"studenta\", \"studentov\").\n",
    "\n",
    "Между числом и словом должен быть ровно один пробел.\n",
    "\n",
    "Sample Input:\n",
    "\n",
    "3\n",
    "\n",
    "Sample Output:\n",
    "\n",
    "3 studenta"
   ]
  },
  {
   "cell_type": "markdown",
   "metadata": {},
   "source": [
    "__#1__"
   ]
  },
  {
   "cell_type": "code",
   "execution_count": 55,
   "metadata": {},
   "outputs": [
    {
     "name": "stdout",
     "output_type": "stream",
     "text": [
      "4\n",
      "4 studenta\n"
     ]
    }
   ],
   "source": [
    "amount = int(input())\n",
    "\n",
    "if amount % 100 in set(range(11, 20)) or amount % 10 in {0, 5, 6, 7, 8, 9}:\n",
    "    print(amount, 'studentov')\n",
    "elif amount % 10 == 1:\n",
    "    print(amount, 'student')\n",
    "else:\n",
    "    print(amount, 'studenta') # Число заканчивается на 2, 3 или 4"
   ]
  },
  {
   "cell_type": "markdown",
   "metadata": {},
   "source": [
    "__#2__ Едва ли это решение лучше первого"
   ]
  },
  {
   "cell_type": "code",
   "execution_count": 46,
   "metadata": {},
   "outputs": [
    {
     "name": "stdout",
     "output_type": "stream",
     "text": [
      "221\n",
      "221 student\n"
     ]
    }
   ],
   "source": [
    "amount = input()\n",
    "\n",
    "if amount.endswith(tuple(str(i) for i in range(20) if i not in {1, 2, 3, 4})):\n",
    "    print(amount, 'studentov')\n",
    "elif amount.endswith('1'):\n",
    "    print(amount, 'student')\n",
    "else:\n",
    "    print(amount, 'studenta') # Число заканчивается на 2, 3 или 4"
   ]
  },
  {
   "cell_type": "code",
   "execution_count": 27,
   "metadata": {},
   "outputs": [
    {
     "name": "stdout",
     "output_type": "stream",
     "text": [
      "Help on method_descriptor:\n",
      "\n",
      "endswith(...)\n",
      "    S.endswith(suffix[, start[, end]]) -> bool\n",
      "    \n",
      "    Return True if S ends with the specified suffix, False otherwise.\n",
      "    With optional start, test S beginning at that position.\n",
      "    With optional end, stop comparing S at that position.\n",
      "    suffix can also be a tuple of strings to try.\n",
      "\n"
     ]
    }
   ],
   "source": [
    "help(str.endswith)"
   ]
  },
  {
   "cell_type": "markdown",
   "metadata": {},
   "source": [
    "20200915"
   ]
  },
  {
   "cell_type": "markdown",
   "metadata": {},
   "source": [
    "### Задача 6\n",
    "Напишите программу, которая прочитает 3 числа и выведет максимум из них троих.\n",
    "\n",
    "Sample Input:\n",
    "\n",
    "8  \n",
    "11  \n",
    "9\n",
    "\n",
    "Sample Output:\n",
    "\n",
    "11"
   ]
  },
  {
   "cell_type": "markdown",
   "metadata": {},
   "source": [
    "__#1__"
   ]
  },
  {
   "cell_type": "code",
   "execution_count": 8,
   "metadata": {},
   "outputs": [
    {
     "name": "stdout",
     "output_type": "stream",
     "text": [
      "1\n",
      "3\n",
      "2\n",
      "3\n"
     ]
    }
   ],
   "source": [
    "a, b, c = (int(input()) for i in range(3))\n",
    "\n",
    "if a > b:\n",
    "    if a > c:\n",
    "        print(a)\n",
    "    else:          # a <=c\n",
    "        print(b)\n",
    "else:              # a <= b\n",
    "    if b > c:\n",
    "        print(b)\n",
    "    else:          # b <= c\n",
    "        print(c)"
   ]
  },
  {
   "cell_type": "markdown",
   "metadata": {},
   "source": [
    "Тоже самое, только покороче:"
   ]
  },
  {
   "cell_type": "code",
   "execution_count": null,
   "metadata": {},
   "outputs": [],
   "source": [
    "a, b, c = (int(input()) for i in range(3))\n",
    "\n",
    "if a > b:\n",
    "    print(a if a > c else c)\n",
    "else:\n",
    "    print(b if b > c else c)"
   ]
  },
  {
   "cell_type": "markdown",
   "metadata": {},
   "source": [
    "__#2__"
   ]
  },
  {
   "cell_type": "code",
   "execution_count": 21,
   "metadata": {},
   "outputs": [
    {
     "name": "stdout",
     "output_type": "stream",
     "text": [
      "1\n",
      "2\n",
      "1\n",
      "2\n"
     ]
    }
   ],
   "source": [
    "a, b, c = (int(input()) for i in range(3))\n",
    "\n",
    "if a <= b >= c:\n",
    "    print(b)\n",
    "elif b <= a >= c:\n",
    "    print(a)\n",
    "else:\n",
    "    print(c)"
   ]
  },
  {
   "cell_type": "markdown",
   "metadata": {},
   "source": [
    "Тоже самое, только покороче:"
   ]
  },
  {
   "cell_type": "code",
   "execution_count": 22,
   "metadata": {},
   "outputs": [
    {
     "name": "stdout",
     "output_type": "stream",
     "text": [
      "1\n",
      "2\n",
      "3\n",
      "3\n"
     ]
    }
   ],
   "source": [
    "a, b, c = (int(input()) for i in range(3))\n",
    "\n",
    "if a <= b >= c:\n",
    "    print(b)\n",
    "else:\n",
    "    print(a if b <= a >= c else c)"
   ]
  },
  {
   "cell_type": "markdown",
   "metadata": {},
   "source": [
    "__#3__"
   ]
  },
  {
   "cell_type": "code",
   "execution_count": 24,
   "metadata": {},
   "outputs": [
    {
     "name": "stdout",
     "output_type": "stream",
     "text": [
      "1\n",
      "2\n",
      "2\n",
      "2\n"
     ]
    }
   ],
   "source": [
    "print(max(int(input()) for i in range(3)))"
   ]
  },
  {
   "cell_type": "markdown",
   "metadata": {},
   "source": [
    "### Задача 7\n",
    "Сколько вариантов следующего хода есть у шахматного короля, стоящего в клетке с заданными координатами?\n",
    "\n",
    "Координаты клетки заданы двумя числами от 1 до 8. Сначала номер столбца, потом номер строки.\n",
    "\n",
    "Король ходит по горизонтали, вертикали, диагонали во всез направлениях на 1 клетку.\n",
    "\n",
    "Sample Input:\n",
    "\n",
    "3  \n",
    "2\n",
    "\n",
    "Sample Output:\n",
    "\n",
    "8"
   ]
  },
  {
   "cell_type": "code",
   "execution_count": 31,
   "metadata": {},
   "outputs": [
    {
     "name": "stdout",
     "output_type": "stream",
     "text": [
      "2\n",
      "8\n",
      "5\n"
     ]
    }
   ],
   "source": [
    "a, b = int(input()), int(input())\n",
    "\n",
    "if ((a == 1 or a == 8) and 1 < b < 8) or ((b == 1 or b == 8) and 1 < a < 8):\n",
    "    print(5)\n",
    "else:\n",
    "    print(8 if 1 < a < 8 and 1 < b < 8 else 3) # 3 если в углах, т.е. if (a == 1 or a == 8) and (b == 1 or b == 8) "
   ]
  },
  {
   "cell_type": "code",
   "execution_count": null,
   "metadata": {},
   "outputs": [],
   "source": []
  }
 ],
 "metadata": {
  "kernelspec": {
   "display_name": "Python 3",
   "language": "python",
   "name": "python3"
  },
  "language_info": {
   "codemirror_mode": {
    "name": "ipython",
    "version": 3
   },
   "file_extension": ".py",
   "mimetype": "text/x-python",
   "name": "python",
   "nbconvert_exporter": "python",
   "pygments_lexer": "ipython3",
   "version": "3.7.3"
  }
 },
 "nbformat": 4,
 "nbformat_minor": 2
}
